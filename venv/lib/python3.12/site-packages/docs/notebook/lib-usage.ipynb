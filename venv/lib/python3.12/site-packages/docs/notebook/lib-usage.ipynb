{
 "cells": [
  {
   "cell_type": "markdown",
   "metadata": {},
   "source": [
    "# Library usage\n",
    "\n",
    "## Simple Parallel Calculation\n",
    "\n",
    "Once you have everything installed and running you can run your first real \n",
    "calculation. The first step is to import the modules to your \n",
    "program (the examples here use VASP calculator)"
   ]
  },
  {
   "cell_type": "code",
   "execution_count": 1,
   "metadata": {
    "collapsed": true
   },
   "outputs": [],
   "source": [
    "from ase.spacegroup import crystal\n",
    "import ase.units as units\n",
    "import numpy\n",
    "import matplotlib.pyplot as plt\n",
    "\n",
    "from parcalc import ClusterVasp, ParCalculate\n",
    "\n",
    "from elastic import get_pressure, BMEOS, get_strain\n",
    "from elastic import get_elementary_deformations, scan_volumes\n",
    "from elastic import get_BM_EOS, get_elastic_tensor"
   ]
  },
  {
   "cell_type": "markdown",
   "metadata": {},
   "source": [
    "next we need to create our example MgO crystal:"
   ]
  },
  {
   "cell_type": "code",
   "execution_count": 2,
   "metadata": {
    "collapsed": true
   },
   "outputs": [],
   "source": [
    "a = 4.194\n",
    "cryst = crystal(['Mg', 'O'], \n",
    "                [(0, 0, 0), (0.5, 0.5, 0.5)], \n",
    "                spacegroup=225,\n",
    "                cellpar=[a, a, a, 90, 90, 90])"
   ]
  },
  {
   "cell_type": "markdown",
   "metadata": {},
   "source": [
    "We need a calculator for our job, here we use VASP and ClusterVasp defined \n",
    "in the parcalc module. You can probably replace this calculator by any other ASE\n",
    "calculator but this was not tested yet. Thus let us define the calculator:"
   ]
  },
  {
   "cell_type": "code",
   "execution_count": 3,
   "metadata": {
    "collapsed": true
   },
   "outputs": [],
   "source": [
    "# Create the calculator running on one, eight-core node.\n",
    "# This is specific to the setup on my cluster.\n",
    "# You have to adapt this part to your environment\n",
    "calc = ClusterVasp(nodes=1, ppn=8)\n",
    "\n",
    "# Assign the calculator to the crystal\n",
    "cryst.set_calculator(calc)\n",
    "\n",
    "# Set the calculation parameters\n",
    "calc.set(prec = 'Accurate', xc = 'PBE', lreal = False,  \n",
    "            nsw=30, ediff=1e-8, ibrion=2, kpts=[3,3,3])\n",
    "\n",
    "# Set the calculation mode first.\n",
    "# Full structure optimization in this case.\n",
    "# Not all calculators have this type of internal minimizer!\n",
    "calc.set(isif=3)"
   ]
  },
  {
   "cell_type": "markdown",
   "metadata": {},
   "source": [
    "Finally, run our first calculation. Obtain relaxed structure and \n",
    "residual pressure after optimization:"
   ]
  },
  {
   "cell_type": "code",
   "execution_count": 4,
   "metadata": {},
   "outputs": [
    {
     "name": "stdout",
     "output_type": "stream",
     "text": [
      "Residual pressure: 0.000 bar\n"
     ]
    }
   ],
   "source": [
    "print(\"Residual pressure: %.3f bar\" % (\n",
    "        get_pressure(cryst.get_stress())))"
   ]
  },
  {
   "cell_type": "markdown",
   "metadata": {},
   "source": [
    "If this returns proper pressure (close to zero) we can use the obtained \n",
    "structure for further calculations. For example we can scan the volume axis to\n",
    "obtain points for equation of state fitting. This will demonstrate the \n",
    "ability to run several calculations in parallel - if you have a cluster of\n",
    "machines at your disposal this will speed up the calculation considerably."
   ]
  },
  {
   "cell_type": "code",
   "execution_count": 5,
   "metadata": {},
   "outputs": [
    {
     "name": "stdout",
     "output_type": "stream",
     "text": [
      "Workers started: 5\n"
     ]
    },
    {
     "data": {
      "image/png": "[encoded data removed]",
      "text/plain": [
       "<matplotlib.figure.Figure at 0x7f84533012b0>"
      ]
     },
     "metadata": {},
     "output_type": "display_data"
    }
   ],
   "source": [
    "# Lets extract optimized lattice constant.\n",
    "# MgO is cubic so a is a first diagonal element of lattice matrix\n",
    "a=cryst.get_cell()[0,0]\n",
    "\n",
    "# Clean up the directory\n",
    "calc.clean()\n",
    "\n",
    "systems=[]\n",
    "# Iterate over lattice constant in the +/-5% range\n",
    "for av in numpy.linspace(a*0.95,a*1.05,5):\n",
    "    systems.append(crystal(['Mg', 'O'], [(0, 0, 0), (0.5, 0.5, 0.5)], \n",
    "                    spacegroup=225, cellpar=[av, av, av, 90, 90, 90]))\n",
    "\n",
    "# Define the template calculator for this run\n",
    "# We can use the calc from above. It is only used as a template.\n",
    "# Just change the params to fix the cell volume\n",
    "calc.set(isif=2)\n",
    "\n",
    "# Run the calculation for all systems in sys in parallel\n",
    "# The result will be returned as list of systems res\n",
    "res=ParCalculate(systems,calc)\n",
    "\n",
    "# Collect the results\n",
    "v=[]\n",
    "p=[]\n",
    "for s in res :\n",
    "    v.append(s.get_volume())\n",
    "    p.append(get_pressure(s.get_stress()))\n",
    "\n",
    "# Plot the result (you need matplotlib for this\n",
    "plt.plot(v,p,'o')\n",
    "plt.show()"
   ]
  },
  {
   "cell_type": "markdown",
   "metadata": {},
   "source": [
    "Birch-Murnaghan Equation of State\n",
    "---------------------------------\n",
    "\n",
    "Let us now use the tools provided by the modules to calculate equation \n",
    "of state for the crystal and verify it by plotting the data points against\n",
    "fitted EOS curve. The EOS used by the module is a well established \n",
    "Birch-Murnaghan formula (P - pressure, V - volume, B - parameters):\n",
    "\n",
    "$$\n",
    "   P(V)= \\frac{B_0}{B'_0}\\left[\n",
    "   \\left({\\frac{V}{V_0}}\\right)^{-B'_0} - 1\n",
    "   \\right]\n",
    "$$"
   ]
  },
  {
   "cell_type": "markdown",
   "metadata": {},
   "source": [
    "Now we repeat the setup and optimization procedure from the example 1 above \n",
    "but using a new Crystal class (see above we skip this part for brevity). \n",
    "Then comes a new part (IDOF - Internal Degrees of Freedom):"
   ]
  },
  {
   "cell_type": "code",
   "execution_count": 6,
   "metadata": {},
   "outputs": [
    {
     "name": "stdout",
     "output_type": "stream",
     "text": [
      "Workers started: 5\n",
      "V0=74.233 A^3 ; B0=168.19 GPa ; B0'=4.270 ; a0=4.20275 A\n"
     ]
    },
    {
     "data": {
      "image/png": "[encoded data removed]",
      "text/plain": [
       "<matplotlib.figure.Figure at 0x7f84509d8f98>"
      ]
     },
     "metadata": {},
     "output_type": "display_data"
    }
   ],
   "source": [
    "# Switch to cell shape+IDOF optimizer\n",
    "calc.set(isif=4)\n",
    "\n",
    "# Calculate few volumes and fit B-M EOS to the result\n",
    "# Use +/-3% volume deformation and 5 data points\n",
    "deform=scan_volumes(cryst, n=5,lo=0.97,hi=1.03)\n",
    "\n",
    "# Run the calculations - here with Cluster VASP\n",
    "res=ParCalculate(deform,calc)\n",
    "\n",
    "# Post-process the results\n",
    "fit=get_BM_EOS(cryst, systems=res)\n",
    "\n",
    "# Get the P(V) data points just calculated\n",
    "pv=numpy.array(cryst.pv)\n",
    "\n",
    "# Sort data on the first column (V)\n",
    "pv=pv[pv[:, 0].argsort()]\n",
    "\n",
    "# Print just fitted parameters\n",
    "print(\"V0=%.3f A^3 ; B0=%.2f GPa ; B0'=%.3f ; a0=%.5f A\" % ( \n",
    "        fit[0], fit[1]/units.GPa, fit[2], pow(fit[0],1./3)))\n",
    "\n",
    "v0=fit[0]\n",
    "\n",
    "# B-M EOS for plotting\n",
    "fitfunc = lambda p, x: numpy.array([BMEOS(xv,p[0],p[1],p[2]) for xv in x])\n",
    "\n",
    "# Ranges - the ordering in pv is not guarateed at all!\n",
    "# In fact it may be purely random.\n",
    "x=numpy.array([min(pv[:,0]),max(pv[:,0])])\n",
    "y=numpy.array([min(pv[:,1]),max(pv[:,1])])\n",
    "\n",
    "\n",
    "# Plot the P(V) curves and points for the crystal\n",
    "# Plot the points\n",
    "plt.plot(pv[:,0]/v0,pv[:,1]/units.GPa,'o')\n",
    "\n",
    "# Mark the center P=0 V=V0\n",
    "plt.axvline(1,ls='--')\n",
    "plt.axhline(0,ls='--')\n",
    "\n",
    "# Plot the fitted B-M EOS through the points\n",
    "xa=numpy.linspace(x[0],x[-1],20)\n",
    "plt.plot(xa/v0,fitfunc(fit,xa)/units.GPa,'-')\n",
    "plt.title('MgO pressure vs. volume')\n",
    "plt.xlabel('$V/V_0$')\n",
    "plt.ylabel('P (GPa)')\n",
    "plt.show()"
   ]
  },
  {
   "cell_type": "markdown",
   "metadata": {},
   "source": [
    "If you set up everything correctly you should obtain fitted parameters printed \n",
    "out in the output close to:\n",
    "\n",
    "$$\n",
    "   V_0 = 73.75 \\text{ A}^3 \\quad\n",
    "   B_0 = 170 \\text{ GPa}  \\quad\n",
    "   B'_0 = 4.3  \\quad\n",
    "   a_0 = 4.1936 \\text{ A}\n",
    "$$"
   ]
  },
  {
   "cell_type": "markdown",
   "metadata": {},
   "source": [
    "Calculation of the elastic tensor\n",
    "---------------------------------\n",
    "\n",
    "Finally let us calculate an elastic tensor for the same simple cubic crystal -\n",
    "magnesium oxide (MgO). For this we need to create the crystal and optimize its \n",
    "structure (see :ref:`parcalc` above). Once we have an optimized structure we can\n",
    "switch the calculator to internal degrees of freedom optimization (IDOF) and\n",
    "calculate the elastic tensor:"
   ]
  },
  {
   "cell_type": "code",
   "execution_count": 7,
   "metadata": {},
   "outputs": [
    {
     "name": "stdout",
     "output_type": "stream",
     "text": [
      "Workers started: 10\n",
      "Cij (GPa): [ 338.46921273  103.64272667  152.2150523 ]\n"
     ]
    }
   ],
   "source": [
    "# Switch to IDOF optimizer\n",
    "calc.set(isif=2)\n",
    "\n",
    "# Create elementary deformations\n",
    "systems = get_elementary_deformations(cryst, n=5, d=0.33)\n",
    "\n",
    "# Run the stress calculations on deformed cells\n",
    "res = ParCalculate(systems, calc)\n",
    "\n",
    "# Elastic tensor by internal routine\n",
    "Cij, Bij = get_elastic_tensor(cryst, systems=res)\n",
    "print(\"Cij (GPa):\", Cij/units.GPa)"
   ]
  },
  {
   "cell_type": "markdown",
   "metadata": {},
   "source": [
    "To make sure we are getting the correct answer let us make the calculation \n",
    "for $C_{11}, C_{12}$ by hand. We will deform the cell along a (x) axis\n",
    "by +/-0.2% and fit the $3^{rd}$ order polynomial to the stress-strain \n",
    "data. The linear component of the fit is the element of the elastic tensor:"
   ]
  },
  {
   "cell_type": "code",
   "execution_count": 8,
   "metadata": {},
   "outputs": [
    {
     "name": "stdout",
     "output_type": "stream",
     "text": [
      "Workers started: 10\n"
     ]
    }
   ],
   "source": [
    "from elastic.elastic import get_cart_deformed_cell\n",
    "\n",
    "# Create 10 deformation points on the a axis\n",
    "systems = []\n",
    "for d in numpy.linspace(-0.2,0.2,10):\n",
    "    systems.append(get_cart_deformed_cell(cryst, axis=0, size=d))\n",
    "\n",
    "# Calculate the systems and collect the stress tensor for each system\n",
    "r = ParCalculate(systems, cryst.calc)\n",
    "ss=[]\n",
    "for s in r:\n",
    "    ss.append([get_strain(s, cryst), s.get_stress()])\n",
    "\n",
    "ss=numpy.array(ss)\n",
    "lo=min(ss[:,0,0])\n",
    "hi=max(ss[:,0,0])\n",
    "mi=(lo+hi)/2\n",
    "wi=(hi-lo)/2\n",
    "xa=numpy.linspace(mi-1.1*wi,mi+1.1*wi, 50)"
   ]
  },
  {
   "cell_type": "code",
   "execution_count": 9,
   "metadata": {},
   "outputs": [
    {
     "name": "stdout",
     "output_type": "stream",
     "text": [
      "C11 = 325.005 GPa, C12 = 102.441 GPa => K= 176.629 GPa\n"
     ]
    },
    {
     "data": {
      "image/png": "[encoded data removed]",
      "text/plain": [
       "<matplotlib.figure.Figure at 0x7f8450ae4080>"
      ]
     },
     "metadata": {},
     "output_type": "display_data"
    }
   ],
   "source": [
    "# Make a plot\n",
    "plt.plot(ss[:,0,0],ss[:,1,0]/units.GPa,'.')\n",
    "plt.plot(ss[:,0,0],ss[:,1,1]/units.GPa,'.')\n",
    "\n",
    "plt.axvline(0,ls='--')\n",
    "plt.axhline(0,ls='--')\n",
    "\n",
    "# Now fit the polynomials to the data to get elastic constants\n",
    "# C11 component\n",
    "f=numpy.polyfit(ss[:,0,0],ss[:,1,0],3)\n",
    "c11=f[-2]/units.GPa\n",
    "\n",
    "# Plot the fitted function\n",
    "plt.plot(xa,numpy.polyval(f,xa)/units.GPa,'-', label='$C_{11}$')\n",
    "\n",
    "# C12 component\n",
    "f=numpy.polyfit(ss[:,0,0],ss[:,1,1],3)\n",
    "c12=f[-2]/units.GPa\n",
    "\n",
    "# Plot the fitted function\n",
    "plt.plot(xa,numpy.polyval(f,xa)/units.GPa,'-', label='$C_{12}$')\n",
    "plt.xlabel('Relative strain')\n",
    "plt.ylabel('Stress componnent (GPa)')\n",
    "plt.title('MgO, strain-stress relation ($C_{11}, C_{12}$)')\n",
    "plt.legend(loc='best')\n",
    "# Here are the results. They should agree with the results\n",
    "# of the internal routine.\n",
    "print('C11 = %.3f GPa, C12 = %.3f GPa => K= %.3f GPa' % (\n",
    "        c11, c12, (c11+2*c12)/3))\n",
    "\n",
    "plt.show()"
   ]
  },
  {
   "cell_type": "markdown",
   "metadata": {},
   "source": [
    "If you set up everything correctly you should obtain fitted parameters printed \n",
    "out in the output close to:\n",
    "\n",
    "    Cij (GPa): [ 340   100   180]\n",
    "\n",
    "With the following result of fitting:\n",
    "\n",
    "    C11 = 325 GPa, C12 = 100 GPa => K= 180 GPa\n",
    "    \n",
    "The actual numbers depend on the details of the calculations setup but should be fairly close to the above results."
   ]
  }
 ],
 "metadata": {
  "hide_input": false,
  "kernelspec": {
   "display_name": "Python 3",
   "language": "python",
   "name": "python3"
  },
  "language_info": {
   "codemirror_mode": {
    "name": "ipython",
    "version": 3
   },
   "file_extension": ".py",
   "mimetype": "text/x-python",
   "name": "python",
   "nbconvert_exporter": "python",
   "pygments_lexer": "ipython3",
   "version": "3.6.2"
  }
 },
 "nbformat": 4,
 "nbformat_minor": 2
}
