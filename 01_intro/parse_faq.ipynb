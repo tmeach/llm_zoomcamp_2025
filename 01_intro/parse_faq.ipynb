{
 "cells": [
  {
   "cell_type": "code",
   "execution_count": 1,
   "id": "2660d909-9af6-4a71-9453-fa9591cdd565",
   "metadata": {},
   "outputs": [],
   "source": [
    "import io\n",
    "\n",
    "import requests\n",
    "import docx"
   ]
  },
  {
   "cell_type": "code",
   "execution_count": 3,
   "id": "d6bc9fa2-b929-4c93-b323-63b7fcd6e62c",
   "metadata": {},
   "outputs": [],
   "source": [
    "url_de_zoomcamp = 'https://docs.google.com/document/d/19bnYs80DwuUimHM65UV3sylsCn2j1vziPOwzBwQrebw/edit?tab=t.0#heading=h.edeyusfgl4b7'\n",
    "url_ml_zoomcamp = 'https://docs.google.com/document/d/1LpPanc33QJJ6BSsyxVg-pWNMplal84TdZtq10naIhD8/edit?tab=t.0#heading=h.s7drv4piz29d'\n",
    "url_mlops_zoomcamp = 'https://docs.google.com/document/d/12TlBfhIiKtyBv8RnsoJR6F72bkPDGEvPOItJIxaEzE0/edit?tab=t.0#heading=h.sh0bgh8fj5rw'"
   ]
  },
  {
   "cell_type": "code",
   "execution_count": 17,
   "id": "3fcb501e-49f4-42ae-80e5-ee0e2cdef7bd",
   "metadata": {},
   "outputs": [],
   "source": [
    "file_id = '19bnYs80DwuUimHM65UV3sylsCn2j1vziPOwzBwQrebw'\n",
    "\n",
    "url = f'https://docs.google.com/document/d/{file_id}/export?format=docx'"
   ]
  },
  {
   "cell_type": "code",
   "execution_count": 18,
   "id": "fa950d43-336b-45b7-ab83-501d1b5ae858",
   "metadata": {},
   "outputs": [],
   "source": [
    "response = requests.get(url)\n",
    "\n",
    "response.raise_for_status()"
   ]
  },
  {
   "cell_type": "code",
   "execution_count": 25,
   "id": "4bb399c6-ead7-4c53-87a3-e98563824427",
   "metadata": {},
   "outputs": [],
   "source": [
    "doc = io.BytesIO(response.content)\n",
    "\n",
    "\n",
    "doc = docx.Document(doc)"
   ]
  },
  {
   "cell_type": "code",
   "execution_count": 69,
   "id": "a7fc90bb-5216-4f95-9b2c-03193f9db0b4",
   "metadata": {},
   "outputs": [
    {
     "data": {
      "text/plain": [
       "<docx.text.paragraph.Paragraph at 0x73bfa83e96a0>"
      ]
     },
     "execution_count": 69,
     "metadata": {},
     "output_type": "execute_result"
    }
   ],
   "source": [
    "a = doc.paragraphs[0]\n",
    "\n",
    "a"
   ]
  },
  {
   "cell_type": "code",
   "execution_count": 74,
   "id": "78d17f6b-9ee2-43ef-9d73-8a475a96527f",
   "metadata": {},
   "outputs": [
    {
     "data": {
      "text/plain": [
       "'Data Engineering Zoomcamp FAQ'"
      ]
     },
     "execution_count": 74,
     "metadata": {},
     "output_type": "execute_result"
    }
   ],
   "source": [
    "a.text"
   ]
  },
  {
   "cell_type": "code",
   "execution_count": null,
   "id": "4c390d0a-8a0e-4dd5-978d-d2ecdbae90a7",
   "metadata": {},
   "outputs": [],
   "source": []
  },
  {
   "cell_type": "code",
   "execution_count": 79,
   "id": "2c303283-3957-470f-a859-9b5e80def796",
   "metadata": {},
   "outputs": [],
   "source": [
    "p = doc.paragraphs[0:20]"
   ]
  },
  {
   "cell_type": "code",
   "execution_count": 67,
   "id": "6f48dbba-031e-4ac7-8308-7d37b2101e0e",
   "metadata": {},
   "outputs": [
    {
     "data": {
      "text/plain": [
       "list"
      ]
     },
     "execution_count": 67,
     "metadata": {},
     "output_type": "execute_result"
    }
   ],
   "source": [
    "type(p)"
   ]
  },
  {
   "cell_type": "code",
   "execution_count": 80,
   "id": "868410b3-e517-4d2b-b8d3-02c9d29f04ad",
   "metadata": {},
   "outputs": [
    {
     "name": "stdout",
     "output_type": "stream",
     "text": [
      "Title\n",
      "Data Engineering Zoomcamp FAQ\n",
      "\n",
      "\n",
      "Title\n",
      "    Data Engineering Zoomcamp FAQ\n",
      "\n",
      "\n",
      "normal\n",
      "The purpose of this document is to capture Frequently asked technical questions\n",
      "\n",
      "\n",
      "normal\n",
      "Editing guidelines:\n",
      "\n",
      "\n",
      "normal\n",
      "When adding a new FAQ entry, make sure the question is “Heading 2”\n",
      "\n",
      "\n",
      "normal\n",
      "Feel free to improve if you see something is off\n",
      "\n",
      "\n",
      "normal\n",
      "Don’t change the formatting in the Data document or add any visual “improvements” (make a copy for yourself first if you need to do it for whatever reason)\n",
      "\n",
      "\n",
      "normal\n",
      "Don’t change the pages format (it should be “pageless”)\n",
      "\n",
      "\n",
      "normal\n",
      "Add name and date for reference, if possible\n",
      "\n",
      "\n",
      "Heading 1\n",
      "General course-related questions\n",
      "\n",
      "\n",
      "Heading 2\n",
      "Course - When does the course start?\n",
      "\n",
      "\n",
      "normal\n",
      "The next cohort starts January 13th 2025. More info at DTC.\n",
      "\n",
      "\n",
      "normal\n",
      "Register before the course starts using this link.\n",
      "\n",
      "\n",
      "normal\n",
      "Joint the course Telegram channel with announcements.\n",
      "\n",
      "\n",
      "normal\n",
      "Don’t forget to register in DataTalks.Club's Slack and join the channel.\n",
      "\n",
      "\n",
      "Heading 2\n",
      "Course - What are the prerequisites for this course?\n",
      "\n",
      "\n",
      "normal\n",
      "See DE zoomcamp 2025 pre-course Q&A\n",
      "\n",
      "\n",
      "normal\n",
      "To get the most out of this course, you should have:\n",
      "\n",
      "\n",
      "normal\n",
      "Basic coding experience\n",
      "\n",
      "\n",
      "normal\n",
      "Familiarity with SQL\n",
      "\n",
      "\n"
     ]
    }
   ],
   "source": [
    "for i in p:\n",
    "    print(i.style.name)\n",
    "    print(i.text)\n",
    "    print('\\n')\n"
   ]
  },
  {
   "cell_type": "code",
   "execution_count": 56,
   "id": "76836187-538c-4ced-b3d2-9fc4c483ead2",
   "metadata": {},
   "outputs": [
    {
     "data": {
      "text/plain": [
       "'heading 1'"
      ]
     },
     "execution_count": 56,
     "metadata": {},
     "output_type": "execute_result"
    }
   ],
   "source": [
    "p.style.name.lower()"
   ]
  },
  {
   "cell_type": "code",
   "execution_count": 57,
   "id": "4c6cc5f3-ab31-4c1a-9c04-80727ceb0eb3",
   "metadata": {},
   "outputs": [
    {
     "data": {
      "text/plain": [
       "('General course-related questions',\n",
       " _ParagraphStyle('Heading 1') id: 127266995478576)"
      ]
     },
     "execution_count": 57,
     "metadata": {},
     "output_type": "execute_result"
    }
   ],
   "source": [
    "p.text, p.style"
   ]
  },
  {
   "cell_type": "code",
   "execution_count": null,
   "id": "dbb9274d-3f90-4458-87b7-e17f248e4a80",
   "metadata": {},
   "outputs": [],
   "source": []
  },
  {
   "cell_type": "code",
   "execution_count": 22,
   "id": "b822233e-0b06-4c69-a58d-81b3e8f54363",
   "metadata": {},
   "outputs": [
    {
     "data": {
      "text/plain": [
       "{'Content-Type': 'application/vnd.openxmlformats-officedocument.wordprocessingml.document', 'X-Robots-Tag': 'noindex, nofollow, nosnippet', 'Cache-Control': 'no-cache, no-store, max-age=0, must-revalidate', 'Pragma': 'no-cache', 'Expires': 'Mon, 01 Jan 1990 00:00:00 GMT', 'Date': 'Fri, 13 Jun 2025 20:27:46 GMT', 'Content-Disposition': 'attachment; filename=\"DataEngineeringZoomcampFAQ.docx\"; filename*=UTF-8\\'\\'Data%20Engineering%20Zoomcamp%20FAQ.docx', 'Transfer-Encoding': 'chunked', 'Access-Control-Allow-Origin': '*', 'Access-Control-Expose-Headers': 'Cache-Control,Content-Disposition,Content-Length,Content-Type,Date,Expires,Pragma,Server,Transfer-Encoding,X-Google-GFE-Backend-Request-Cost', 'Content-Security-Policy': \"require-trusted-types-for 'script';report-uri https://csp.withgoogle.com/csp/docs-tt, frame-ancestors 'self' https://docs.google.com, base-uri 'self';object-src 'none';report-uri https://doc-08-10-docstext.googleusercontent.com/document/cspreport;script-src 'nonce-wn9z2f4AJMsFi9WJ6aKAsQ' 'unsafe-inline' 'strict-dynamic' https: http: 'unsafe-eval';worker-src 'self' blob:\", 'Reporting-Endpoints': 'default=\"/web-reports?bl=editors.documents-frontend_20250603.02_p2&context=eJwV0WlYlGUXB_DbZ-77KMoyC8ywDMM4LKKIIomSqAgDBPoiuPWMGJoserkEqWiZ5pZaYZZbWaEyssgyouWSJZlLIi5oEC4JVG6osegriiy9wfvvw-8659NZ-3_ksYVkNrmfzHJh9QCZlcFRe5ldgnylzAxqmQ1ykZkZzkOhq8zi3WWm95DZ63qZFRhk9rdJZmneMvvJD_kQmTkMlZkKAgJltmOYzDaPkFlMiMx6R8ksYbTMakNl9gDCx8tsygzUt8hsNFQnyewO5M6W2a25MnsEdmkyc4Mb6TIbuUhmURCUJbMJ0Lwc_SDwXZlFwG_rZPYYitfL7Hu4tkFmf0DUBzKbDqFbZRYL2V_I7Gvw3S2zEOj5UmaOX8lswx7MCxtyEWGoVWZjIadAZja4ADfhcpnM6sD5G5n5wA_HcS94_4LMtkLcRZnNhIgr2A9iqnArCKiWWRicui6zq_D8pswUt2T26W2Z7YNzf8jsVzDcldkw2P1AZkXg1CgzLzgC5-AC3IRHj2XWASltMlsKD-ElpDhZ2BmoBnulhenhkc7ClCMtzAhzRlnYMiiHK3DzVQt7CK-GWVgc2MVb2PhEC5sMu-CExcLuJlnY-mQL2w4Rcy1sCiiXoR5Mz7KwBWssbAlkwWrYCTnwEJ7A1bUWdgPuQRP86VLDkoY0Symw6edn0laYf69NygS34c-lgZA86bmUDttHtEuG2HbJD_Tr2iUf0G1ol7xgT0W7VACXFnVINbBybKe0HizjOqU3IWlep5QC5dmd0s9QNaNLug6jV3VJ4aC-3CW5g111l6SCMHW3ZAa3D7qlgZC9pVva8S9rt_Tj_m7pZW-P1AM_6nul8zB9Ua_0BgSt7JVCoe4OU9yDz_P6KGIL-igSodIqKX6BC-clhXGwQuEP5VMVip9hzgyFYj6cWK9QnIbjmxEh87xC8Q60NSoU3bC8P1dUGLniKrQ8GcNfgLpjDHeHj5-E8e3Q9iKMd8OthLFc--VYboC7B8fyv2C--zieCcbQcdwfsneP47vAyWc818HajPH8Q4j_LJzPgJKacP4tvNIbzsPAY-QE7g3MMoH3A0PGBO4Hes8I7gN_x0ZwERfB90-M4CVg93kEV8EvLRH8TzjdGsErgSIjuSM8XRXJDxdH8tNQZYvk18GlLJJ7go_OzIdCU6KZt8Gpt828Ap6uMPMO6Fpt5n3eN_O6w2Z-DxqPmHkr-H5n5qtqzXwLxAyM4pOh3RTFhXcUf9cSxT-ClqIo_gJGvIzir0I0xEMqLIIS-BZqPaN5PcwaGs1T4fqCaN4Ae5dE80JILYvmG3-K5p_AvspoHvFrNI-DpnvRvA0OPozmx-CUMYZXwOKQGJ4FjaNjeDtM6nyNT4Mcl1h-ESq1sfwWHJ0Ry8thx_xYfk0Rx_-AWZo4ngrlrnG8AtL6TuSLIbv_RL4D6s25ohlsCblCMy1XeMD5E7miCjRVucIbCn_PFcdhuJ1VhMO1MVbxGxiTrMIf7u60ir0nraIQMsqtYgU4vLAKF8h6aRUbYe2s_eIz8Ju9X1Rf3S_ugP2ePOEMvnvzRCDUtOWJ3O354jD8VZ8vnkF3c76QWvLFgqf5YglwqUA4w2nXAlEJSYsLRAq03S8Q3VC4sVCUwf3sQtEBl48eEHXw_akD4hwc9y8Sp0C9ukiYwDG3SGhhZlmRmAtn7xeJGtjuVSy0Y4uFH1hnFotimLq7VLwB45tKRQzs_6dUlMAuhU0UwA8eNnEW9gXaRDFcnWgTN8Bzsk34Aku0iX5gl24TKti20iasMHiNTbwCvl_YRCAkl9hEOuw4bhN5MO-MTWzOPii2gXdAmQiA3SFlogiMf5eJILDFHxJHwZR6SAyB9sxDQpvZJPygaGuTOAyby5rEpzD_UZMwq5pFZnKzeAcGXmoWAbD4crPIgpe3m0UPWBqaxZugD28RPhBzskVMho6zLaIXvjC1in3gO7NVBELw161iDHjntIoAyD7TKnZAK_wDysHPhBE-aHwmdsKxKW1i6to2IUPa1AGUBZe3D6A6mN41gGZ2D6DZUJxhT9_A8xx76oS2PfbUAb3gtNeewhvt6TXYzB3oU5CjHWg-xB53oERoOuFAbZDf7EDF0O8zR1JC73lH6lvhSKMuOlIM1AU70T34Z54TqXKdyA32NjrRJHclLVmkpIxCJTWUKOku5JQqyQrBp5XU26Ek3qmkD1Uq2g1PB6uoAxImqMhsVtEkUL-hInfYuVVF-eB1VEWDYLZSTdYwNRWCJlpNHv-aqyZvSEhRUzpErlHTVJieq6Y0OFusphpIrVZTOQQ5aSgUkoZoaCGkBWpoMcwarqFFMGi0hoZDQaiGDsLEuRrSpWjIC-LOaWgmdF3RkF2VhtxrNOQHybUauvKVM9XCxmvO9AkcaHCmQ3Cu1ZkqofuFM_Vvd6YUtQsthPhEF0qG05tdqBKWlrrQe-Dvo6VQOJWjpQrYmaelHCi-qKXvwa5WSyo4eF1LxyCuXktT4GiDlsph-p9aSoMXPVpKEDqaA_GhOkoGStaRFkoX6-gIvPWejko-1NG3cOQjHZ2E_-3QEd-pI98aHYXAii4dbYblRld6Hz6Z5Eq74P7HrvQYEr50pekw9JArjYSqb1ypBv5b6UqdsPy2K20CJzs38oInRjd6CYNC3Gg0XJniRvVwJs-NLsLkqe40DfaudadCqM92p_twJ9KDHsO2GA_6HPrP9SA17NrmQXug574HOT7wIINaT8Pg9wA9tUJEhJ5ioCxOT0f-9YOeTsLx83o6BYoGPfWDduiG65In3YYHEz2pBRYke9ISkI54Ul9YWeNJ62HoTU8aCdWNnnQDqrs9qdZkoHo4PMxAxyAgwUBBEJtowL8NdGWFgWrBWGIgXzhbaqAL8OSKgW7UGagOGhoMdBcuPjVQNTh0G0gNU__jRUlwc5YXWeZ5UTKY871oGuTe8aI5fY00H56ONlIH9F40Ut9LRjq3biBdhk3WgZQNEwoGUiLoh5vIBxa-ZqJMoE0m0sJ3B0zkZTPRIKi_YKJmeHHbRLzOROk9JnoLXg_2ptngv9CbgmDEe940CipWedNlmLDamxJB3Pcm3TNv8gSd8CEvuGv0oWcwzdmXUuHoEl8qB5ddvuQJxjJf8ofVPn60EQbPHEQj4OPbg2g7HOD-dAjihT_NgCCVP4XA1i3-tBfyDvhTKVxgYRR_MIxmwJ01Y-khTK4ZR2r7flU7j5wj5Z1fer7u407R776duTTLNDg9bUFW5tJlw9IyU5e_lZ6RtSxw3tLMjKz0jLQ5wUHBIUGjgl4ZFhQ85-3g_wPny6ku&build-label=editors.documents-frontend_20250603.02_p2&imp-sid=CKqGiI2e740DFbcoqQEd2MM1SQ&is-cached-offline=false\"', 'Document-Policy': 'include-js-call-stacks-in-crash-reports', 'X-Frame-Options': 'ALLOW-FROM https://docs.google.com', 'X-Content-Type-Options': 'nosniff', 'X-XSS-Protection': '1; mode=block', 'Server': 'GSE', 'Alt-Svc': 'h3=\":443\"; ma=2592000,h3-29=\":443\"; ma=2592000', 'x-l2-request-path': 'l2-managed-5'}"
      ]
     },
     "execution_count": 22,
     "metadata": {},
     "output_type": "execute_result"
    }
   ],
   "source": [
    "response.headers"
   ]
  },
  {
   "cell_type": "code",
   "execution_count": null,
   "id": "8bd9bf81-b980-4ce1-8ed9-6fc55d112d7f",
   "metadata": {},
   "outputs": [],
   "source": []
  },
  {
   "cell_type": "code",
   "execution_count": null,
   "id": "76158059-9775-490b-9c9d-8ee08380bbfa",
   "metadata": {},
   "outputs": [],
   "source": []
  },
  {
   "cell_type": "code",
   "execution_count": 4,
   "id": "91088771-49c6-4193-98b2-6026009f4232",
   "metadata": {},
   "outputs": [],
   "source": [
    "def clean_line(line):\n",
    "    line = line.strip()\n",
    "    line = line.strip('\\uFEFF')\n",
    "    return line\n",
    "\n",
    "def read_faq(file_id):\n",
    "    url = f'https://docs.google.com/document/d/{file_id}/export?format=docx'\n",
    "    \n",
    "    response = requests.get(url)\n",
    "    response.raise_for_status()\n",
    "    \n",
    "    with io.BytesIO(response.content) as f_in:\n",
    "        doc = docx.Document(f_in)\n",
    "\n",
    "    questions = []\n",
    "\n",
    "    question_heading_style = 'heading 2'\n",
    "    section_heading_style = 'heading 1'\n",
    "    \n",
    "    heading_id = ''\n",
    "    section_title = ''\n",
    "    question_title = ''\n",
    "    answer_text_so_far = ''\n",
    "     \n",
    "    for p in doc.paragraphs:\n",
    "        style = p.style.name.lower()\n",
    "        p_text = clean_line(p.text)\n",
    "    \n",
    "        if len(p_text) == 0:\n",
    "            continue\n",
    "    \n",
    "        if style == section_heading_style:\n",
    "            section_title = p_text\n",
    "            continue\n",
    "    \n",
    "        if style == question_heading_style:\n",
    "            answer_text_so_far = answer_text_so_far.strip()\n",
    "            if answer_text_so_far != '' and section_title != '' and question_title != '':\n",
    "                questions.append({\n",
    "                    'text': answer_text_so_far,\n",
    "                    'section': section_title,\n",
    "                    'question': question_title,\n",
    "                })\n",
    "                answer_text_so_far = ''\n",
    "    \n",
    "            question_title = p_text\n",
    "            continue\n",
    "        \n",
    "        answer_text_so_far += '\\n' + p_text\n",
    "    \n",
    "    answer_text_so_far = answer_text_so_far.strip()\n",
    "    if answer_text_so_far != '' and section_title != '' and question_title != '':\n",
    "        questions.append({\n",
    "            'text': answer_text_so_far,\n",
    "            'section': section_title,\n",
    "            'question': question_title,\n",
    "        })\n",
    "\n",
    "    return questions"
   ]
  },
  {
   "cell_type": "code",
   "execution_count": 5,
   "id": "7b354c17-797f-4fd1-8e87-4103998206d9",
   "metadata": {},
   "outputs": [],
   "source": [
    "faq_documents = {\n",
    "    'data-engineering-zoomcamp': '19bnYs80DwuUimHM65UV3sylsCn2j1vziPOwzBwQrebw',\n",
    "    'machine-learning-zoomcamp': '1LpPanc33QJJ6BSsyxVg-pWNMplal84TdZtq10naIhD8',\n",
    "    'mlops-zoomcamp': '12TlBfhIiKtyBv8RnsoJR6F72bkPDGEvPOItJIxaEzE0',\n",
    "}"
   ]
  },
  {
   "cell_type": "code",
   "execution_count": 6,
   "id": "66eef7bd-85bf-41a3-9185-807a9d2aef58",
   "metadata": {},
   "outputs": [
    {
     "name": "stdout",
     "output_type": "stream",
     "text": [
      "data-engineering-zoomcamp\n",
      "machine-learning-zoomcamp\n",
      "mlops-zoomcamp\n"
     ]
    }
   ],
   "source": [
    "documents = []\n",
    "\n",
    "for course, file_id in faq_documents.items():\n",
    "    print(course)\n",
    "    course_documents = read_faq(file_id)\n",
    "    documents.append({'course': course, 'documents': course_documents})"
   ]
  },
  {
   "cell_type": "code",
   "execution_count": 7,
   "id": "e034e6fc-4b55-4ca7-a8d3-da091a9db674",
   "metadata": {},
   "outputs": [],
   "source": [
    "import json"
   ]
  },
  {
   "cell_type": "code",
   "execution_count": 8,
   "id": "bc0b661c-1890-4afc-b6e1-9af0eb037e8a",
   "metadata": {},
   "outputs": [],
   "source": [
    "with open('documents.json', 'wt') as f_out:\n",
    "    json.dump(documents, f_out, indent=2)"
   ]
  },
  {
   "cell_type": "code",
   "execution_count": 9,
   "id": "1003939c-8999-472b-849b-1f7edbd2ab3d",
   "metadata": {},
   "outputs": [
    {
     "name": "stdout",
     "output_type": "stream",
     "text": [
      "[\n",
      "  {\n",
      "    \"course\": \"data-engineering-zoomcamp\",\n",
      "    \"documents\": [\n",
      "      {\n",
      "        \"text\": \"The purpose of this document is to capture frequently asked technical questions\\nThe exact day and hour of the course will be 15th Jan 2024 at 17h00. The course will start with the first  \\u201cOffice Hours'' live.1\\nSubscribe to course public Google Calendar (it works from Desktop only).\\nRegister before the course starts using this link.\\nJoin the course Telegram channel with announcements.\\nDon\\u2019t forget to register in DataTalks.Club's Slack and join the channel.\",\n",
      "        \"section\": \"General course-related questions\",\n",
      "        \"question\": \"Course - When will the course start?\"\n",
      "      },\n",
      "      {\n"
     ]
    }
   ],
   "source": [
    "!head documents.json\n"
   ]
  },
  {
   "cell_type": "code",
   "execution_count": null,
   "id": "7698cb03-6529-4621-b643-e46fbf9452db",
   "metadata": {},
   "outputs": [],
   "source": []
  },
  {
   "cell_type": "code",
   "execution_count": null,
   "id": "2c7e5a58-8b94-413c-bb11-d6769b442c98",
   "metadata": {},
   "outputs": [],
   "source": []
  },
  {
   "cell_type": "code",
   "execution_count": null,
   "id": "f2fc6d0f-a587-465f-bff4-1fe2084e1e7d",
   "metadata": {},
   "outputs": [],
   "source": []
  },
  {
   "cell_type": "code",
   "execution_count": null,
   "id": "828bb7e8-71ef-4188-8940-e45df83cd337",
   "metadata": {},
   "outputs": [],
   "source": []
  },
  {
   "cell_type": "code",
   "execution_count": null,
   "id": "1d557181-8e36-4621-aa27-835dde847fee",
   "metadata": {},
   "outputs": [],
   "source": []
  },
  {
   "cell_type": "code",
   "execution_count": null,
   "id": "2c048a32-1ebf-4312-9b63-6160abcc5706",
   "metadata": {},
   "outputs": [],
   "source": []
  },
  {
   "cell_type": "code",
   "execution_count": null,
   "id": "8a74a1a4-8633-4d8d-a1f4-bc497b6c6189",
   "metadata": {},
   "outputs": [],
   "source": []
  }
 ],
 "metadata": {
  "kernelspec": {
   "display_name": "Python 3 (ipykernel)",
   "language": "python",
   "name": "python3"
  },
  "language_info": {
   "codemirror_mode": {
    "name": "ipython",
    "version": 3
   },
   "file_extension": ".py",
   "mimetype": "text/x-python",
   "name": "python",
   "nbconvert_exporter": "python",
   "pygments_lexer": "ipython3",
   "version": "3.12.1"
  }
 },
 "nbformat": 4,
 "nbformat_minor": 5
}
